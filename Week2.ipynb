{
  "nbformat": 4,
  "nbformat_minor": 0,
  "metadata": {
    "colab": {
      "name": "Week2.ipynb",
      "provenance": [],
      "authorship_tag": "ABX9TyP7ITlZVkzrnkGY0LntnuhE",
      "include_colab_link": true
    },
    "kernelspec": {
      "name": "python3",
      "display_name": "Python 3"
    },
    "language_info": {
      "name": "python"
    }
  },
  "cells": [
    {
      "cell_type": "markdown",
      "metadata": {
        "id": "view-in-github",
        "colab_type": "text"
      },
      "source": [
        "<a href=\"https://colab.research.google.com/github/vedikagadia02/iste-python/blob/main/Week2.ipynb\" target=\"_parent\"><img src=\"https://colab.research.google.com/assets/colab-badge.svg\" alt=\"Open In Colab\"/></a>"
      ]
    },
    {
      "cell_type": "code",
      "metadata": {
        "colab": {
          "base_uri": "https://localhost:8080/"
        },
        "id": "kPcSlUqZS6Dt",
        "outputId": "dd5c13ba-dc19-4a25-fa92-bbf3dbe9efff"
      },
      "source": [
        "#q1\n",
        "arr = []\n",
        "n= int(input(\"enter the number of elements in array \"))\n",
        "flag = 0\n",
        "for i in range(n):\n",
        "  temp = int(input(\"enter \"))\n",
        "  arr.append(temp)\n",
        "for i in range(n):\n",
        "  for j in range(n):\n",
        "    if arr[i]==arr[j] :\n",
        "      flag=1\n",
        "      break\n",
        "\n",
        "if flag==1:\n",
        "  print(\"False\")\n",
        "else:\n",
        "  print(\"True\")\n"
      ],
      "execution_count": 9,
      "outputs": [
        {
          "output_type": "stream",
          "text": [
            "enter the number of elements in array 5\n",
            "enter 1\n",
            "enter 2\n",
            "enter 2\n",
            "enter 4\n",
            "enter 4\n",
            "False\n"
          ],
          "name": "stdout"
        }
      ]
    },
    {
      "cell_type": "code",
      "metadata": {
        "colab": {
          "base_uri": "https://localhost:8080/"
        },
        "id": "GxXVq4seYUVy",
        "outputId": "ed401a5f-8a55-4769-acf7-07aae46f25ce"
      },
      "source": [
        "#q2\n",
        "arr = []\n",
        "n= int(input(\"enter the number of elements in array \"))\n",
        "flag = 0\n",
        "for i in range(n):\n",
        "  temp = int(input(\"enter \"))\n",
        "  arr.append(temp)\n",
        "\n",
        "if len(arr)==len(set(arr)):\n",
        "  flag=1\n",
        "\n",
        "if flag==0:\n",
        "  print(\"False\")\n",
        "else:\n",
        "  print(\"True\")\n"
      ],
      "execution_count": 11,
      "outputs": [
        {
          "output_type": "stream",
          "text": [
            "enter the number of elements in array 5\n",
            "enter 1\n",
            "enter 2\n",
            "enter 3\n",
            "enter 4\n",
            "enter 4\n",
            "False\n"
          ],
          "name": "stdout"
        }
      ]
    },
    {
      "cell_type": "code",
      "metadata": {
        "colab": {
          "base_uri": "https://localhost:8080/"
        },
        "id": "MxDa4BPyY3Ak",
        "outputId": "903e8d73-6197-44d7-8169-23a15f5ce522"
      },
      "source": [
        "#q3\n",
        "arr = []\n",
        "unique = []\n",
        "n= int(input(\"enter the number of elements in array \"))\n",
        "flag = 0\n",
        "for i in range(n):\n",
        "  temp = int(input(\"enter \"))\n",
        "  arr.append(temp)\n",
        "\n",
        "unique = list(set(arr))\n",
        "print(unique)"
      ],
      "execution_count": 14,
      "outputs": [
        {
          "output_type": "stream",
          "text": [
            "enter the number of elements in array 5\n",
            "enter 1\n",
            "enter 2\n",
            "enter 2\n",
            "enter 3\n",
            "enter 4\n",
            "[1, 2, 3, 4]\n"
          ],
          "name": "stdout"
        }
      ]
    },
    {
      "cell_type": "code",
      "metadata": {
        "colab": {
          "base_uri": "https://localhost:8080/"
        },
        "id": "54DTKyFlc3eZ",
        "outputId": "2cdbe3e2-ed4e-469e-fe42-f455dcbbf2f4"
      },
      "source": [
        "arr =  set(input().split())\n",
        "substring = set(input().split())\n",
        "flag = 0\n",
        "\n",
        "print(substring.issubset(arr))\n",
        "    "
      ],
      "execution_count": 17,
      "outputs": [
        {
          "output_type": "stream",
          "text": [
            "1 2 3 4 5\n",
            "1 2 3\n",
            "True\n"
          ],
          "name": "stdout"
        }
      ]
    },
    {
      "cell_type": "code",
      "metadata": {
        "colab": {
          "base_uri": "https://localhost:8080/"
        },
        "id": "kAg_0LLmhbbT",
        "outputId": "e094d187-8121-4271-f8b4-bba541495e3f"
      },
      "source": [
        "ar1 = tuple(input().split())\n",
        "ar2 = tuple(input().split())\n",
        "ar = []\n",
        "\n",
        "if len(ar1)>len(ar2):\n",
        "  min=len(ar2)\n",
        "else:\n",
        "  min=len(ar1)\n",
        "\n",
        "for i in range(min):\n",
        "  ar.append(int(ar1[i])+int(ar2[i]))\n",
        "\n",
        "if len(ar1)>len(ar2):\n",
        "  for i in range(min,len(ar1)):\n",
        "    ar.append(int(ar1[i]))\n",
        "\n",
        "else:\n",
        "  for i in range(min,len(ar2)):\n",
        "    ar.append(int(ar2[i]))\n",
        "\n",
        "print(tuple(ar))"
      ],
      "execution_count": 34,
      "outputs": [
        {
          "output_type": "stream",
          "text": [
            "1 2 3 4 5\n",
            "1 2 3\n",
            "(2, 4, 6, 4, 5)\n"
          ],
          "name": "stdout"
        }
      ]
    },
    {
      "cell_type": "code",
      "metadata": {
        "colab": {
          "base_uri": "https://localhost:8080/"
        },
        "id": "E_-Fb0Wcm_iP",
        "outputId": "40e797f7-72b1-49ee-d9db-0a0519f6f3fe"
      },
      "source": [
        "ar=tuple(input().split())\n",
        "num = 0\n",
        "for i in ar:\n",
        "  num = num*10 + int(i)\n",
        "\n",
        "print(num)"
      ],
      "execution_count": 25,
      "outputs": [
        {
          "output_type": "stream",
          "text": [
            "1 2 3\n",
            "123\n"
          ],
          "name": "stdout"
        }
      ]
    }
  ]
}