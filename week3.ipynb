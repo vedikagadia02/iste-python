{
 "metadata": {
  "language_info": {
   "codemirror_mode": {
    "name": "ipython",
    "version": 3
   },
   "file_extension": ".py",
   "mimetype": "text/x-python",
   "name": "python",
   "nbconvert_exporter": "python",
   "pygments_lexer": "ipython3",
   "version": "3.9.5"
  },
  "orig_nbformat": 2,
  "kernelspec": {
   "name": "python395jvsc74a57bd063fd5069d213b44bf678585dea6b12cceca9941eaf7f819626cde1f2670de90d",
   "display_name": "Python 3.9.5 64-bit"
  },
  "metadata": {
   "interpreter": {
    "hash": "63fd5069d213b44bf678585dea6b12cceca9941eaf7f819626cde1f2670de90d"
   }
  }
 },
 "nbformat": 4,
 "nbformat_minor": 2,
 "cells": [
  {
   "cell_type": "code",
   "execution_count": 7,
   "metadata": {},
   "outputs": [
    {
     "output_type": "stream",
     "name": "stdout",
     "text": [
      "{'a': '32', 'd': '4', 'b': '3'}\n"
     ]
    }
   ],
   "source": [
    "fruits = {}\n",
    "\n",
    "n= int(input(\"enter the number of values in fruits dictionary: \"))\n",
    "for i in range (n):\n",
    "  key = input(\"enter the key \")\n",
    "  value = input(\"enter the value \")\n",
    "  fruits[key]=value\n",
    "\n",
    "veggies = {}\n",
    "\n",
    "n = int(input(\"enter the number of values in veggies dictionary: \"))\n",
    "for i in range (n):\n",
    "  key = input(\"enter the key \")\n",
    "  value = input(\"enter the value \")\n",
    "  veggies[key]=value\n",
    "\n",
    "for i in fruits:\n",
    "    if i in veggies.keys():\n",
    "        veggies[i]=veggies[i]+fruits[i]\n",
    "    else:\n",
    "        veggies[i]=fruits[i]\n",
    "print(veggies)"
   ]
  },
  {
   "cell_type": "code",
   "execution_count": 25,
   "metadata": {},
   "outputs": [
    {
     "output_type": "stream",
     "name": "stdout",
     "text": [
      "{'a': 1, 'p': 2, 'l': 1, 'e': 1}\n"
     ]
    }
   ],
   "source": [
    "str = input(\"enter a string \")\n",
    "d = dict()\n",
    "for i in str:\n",
    "    if i in d.keys():\n",
    "        d[i]+=1\n",
    "    else:\n",
    "         d[i]=1\n",
    "\n",
    "print(d)"
   ]
  },
  {
   "cell_type": "code",
   "execution_count": 35,
   "metadata": {},
   "outputs": [
    {
     "output_type": "stream",
     "name": "stdout",
     "text": [
      "an apple a day keeps the doctor a\n"
     ]
    }
   ],
   "source": [
    "ms = input(\"enter main string \")\n",
    "ss = input(\"enter sub string \")\n",
    "a = []\n",
    "\n",
    "for i in ss:\n",
    "    for j in range(len(ms)):\n",
    "        if(i==ms[j]):\n",
    "            a.append(j)\n",
    "            break\n",
    "        else:\n",
    "            continue\n",
    "\n",
    "m = max(a)\n",
    "print(ms[0:m])"
   ]
  },
  {
   "cell_type": "code",
   "execution_count": 36,
   "metadata": {},
   "outputs": [
    {
     "output_type": "stream",
     "name": "stdout",
     "text": [
      "3\n"
     ]
    }
   ],
   "source": [
    "ms = input(\"enter main string \")\n",
    "ss = \"are\"\n",
    "counter=0\n",
    "for i in ms.split():\n",
    "    if i==ss:\n",
    "        counter+=1\n",
    "\n",
    "print(counter)"
   ]
  },
  {
   "cell_type": "code",
   "execution_count": null,
   "metadata": {},
   "outputs": [],
   "source": []
  }
 ]
}