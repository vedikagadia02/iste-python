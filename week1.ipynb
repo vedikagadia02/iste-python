{
  "nbformat": 4,
  "nbformat_minor": 0,
  "metadata": {
    "colab": {
      "name": "week1.ipynb",
      "provenance": [],
      "collapsed_sections": [],
      "authorship_tag": "ABX9TyNX7S2NLnk5bZm3mdZ5woTv",
      "include_colab_link": true
    },
    "kernelspec": {
      "name": "python3",
      "display_name": "Python 3"
    },
    "language_info": {
      "name": "python"
    }
  },
  "cells": [
    {
      "cell_type": "markdown",
      "metadata": {
        "id": "view-in-github",
        "colab_type": "text"
      },
      "source": [
        "<a href=\"https://colab.research.google.com/github/vedikagadia02/iste-python/blob/main/week1.ipynb\" target=\"_parent\"><img src=\"https://colab.research.google.com/assets/colab-badge.svg\" alt=\"Open In Colab\"/></a>"
      ]
    },
    {
      "cell_type": "code",
      "metadata": {
        "colab": {
          "base_uri": "https://localhost:8080/"
        },
        "id": "UpihErfGZS6g",
        "outputId": "9f00c159-a0ef-499a-e787-9935f73c75e8"
      },
      "source": [
        "a=7.3\n",
        "b= 5+4j\n",
        "c=a+b\n",
        "print(c)"
      ],
      "execution_count": 1,
      "outputs": [
        {
          "output_type": "stream",
          "text": [
            "(12.3+4j)\n"
          ],
          "name": "stdout"
        }
      ]
    },
    {
      "cell_type": "code",
      "metadata": {
        "colab": {
          "base_uri": "https://localhost:8080/"
        },
        "id": "WuK3YPqZoCPc",
        "outputId": "4614d044-6b80-4657-efbc-dcb67ee8a0bf"
      },
      "source": [
        "if (4e4==4E4):\n",
        "  print('same')\n",
        "else:\n",
        "  print('different')"
      ],
      "execution_count": 6,
      "outputs": [
        {
          "output_type": "stream",
          "text": [
            "same\n"
          ],
          "name": "stdout"
        }
      ]
    },
    {
      "cell_type": "code",
      "metadata": {
        "colab": {
          "base_uri": "https://localhost:8080/"
        },
        "id": "F34tYVjJtx6E",
        "outputId": "f6098985-e635-4e89-f49a-4c7fd02d70f4"
      },
      "source": [
        "a=3\n",
        "b=5\n",
        "c=complex(a,b)\n",
        "r=c.real\n",
        "i=c.imag\n",
        "print(r,i)"
      ],
      "execution_count": 10,
      "outputs": [
        {
          "output_type": "stream",
          "text": [
            "3.0 5.0\n"
          ],
          "name": "stdout"
        }
      ]
    },
    {
      "cell_type": "code",
      "metadata": {
        "colab": {
          "base_uri": "https://localhost:8080/"
        },
        "id": "QWL2_S9XuaY3",
        "outputId": "161b0c30-a7bf-4fce-819e-b05d5c92aa5e"
      },
      "source": [
        "import math\n",
        "e=math.exp(1)\n",
        "print(e)\n",
        "i=int(e)\n",
        "d=e-i\n",
        "print(d)"
      ],
      "execution_count": 13,
      "outputs": [
        {
          "output_type": "stream",
          "text": [
            "2.718281828459045\n",
            "0.7182818284590451\n"
          ],
          "name": "stdout"
        }
      ]
    },
    {
      "cell_type": "code",
      "metadata": {
        "colab": {
          "base_uri": "https://localhost:8080/"
        },
        "id": "o_CLoXLXvMh0",
        "outputId": "59bcf5d2-31d1-473f-bf6a-8131b45c1d2a"
      },
      "source": [
        "def func(**d):\n",
        "  print(type(d))\n",
        "  print(d)\n",
        "\n",
        "func(a=\"1\", b=\"2\")"
      ],
      "execution_count": 21,
      "outputs": [
        {
          "output_type": "stream",
          "text": [
            "<class 'dict'>\n",
            "{'a': '1', 'b': '2'}\n"
          ],
          "name": "stdout"
        }
      ]
    },
    {
      "cell_type": "code",
      "metadata": {
        "colab": {
          "base_uri": "https://localhost:8080/"
        },
        "id": "xYrTcCqdwd1B",
        "outputId": "81186803-096e-4c3d-fce1-632d56bc5ecb"
      },
      "source": [
        "a=int(input('enter a : '))\n",
        "b=1\n",
        "while(a>1):\n",
        "  b*=a\n",
        "  a-=1\n",
        "\n",
        "print(b)"
      ],
      "execution_count": 27,
      "outputs": [
        {
          "output_type": "stream",
          "text": [
            "enter a : 5\n",
            "120\n"
          ],
          "name": "stdout"
        }
      ]
    },
    {
      "cell_type": "code",
      "metadata": {
        "colab": {
          "base_uri": "https://localhost:8080/"
        },
        "id": "z7Q0-Od8NZWq",
        "outputId": "62232190-ccbe-41e1-f6a3-5ae49b41d17d"
      },
      "source": [
        "a=int(input('number of terms : '))\n",
        "t1=0\n",
        "t2=1\n",
        "for i in range(1,a+1):  \n",
        "  if(i==1):\n",
        "    print(t1)\n",
        "  elif(i==2):\n",
        "    print(t2)\n",
        "  else: \n",
        "    t3=t1+t2\n",
        "    print(t3)\n",
        "    temp=t2\n",
        "    t2=t3\n",
        "    t1=temp\n",
        "\n",
        "\n"
      ],
      "execution_count": 32,
      "outputs": [
        {
          "output_type": "stream",
          "text": [
            "number of terms : 10\n",
            "0\n",
            "1\n",
            "1\n",
            "2\n",
            "3\n",
            "5\n",
            "8\n",
            "13\n",
            "21\n",
            "34\n"
          ],
          "name": "stdout"
        }
      ]
    },
    {
      "cell_type": "code",
      "metadata": {
        "colab": {
          "base_uri": "https://localhost:8080/"
        },
        "id": "v9O9-kABQxCj",
        "outputId": "e044eccd-8ef8-4aa9-cd75-8ebffbbbf56f"
      },
      "source": [
        "a=[]\n",
        "pos=0\n",
        "neg=0\n",
        "n=int(input('enter number of elements : '))\n",
        "for i in range(0,n):\n",
        "  x=int(input('enter element '))\n",
        "  a.append(x)\n",
        "  if(a[i]>=0):\n",
        "    pos+=a[i]\n",
        "  else:\n",
        "    neg+=a[i]\n",
        "\n",
        "if(pos>abs(neg)):\n",
        "  print('POSITIVE')\n",
        "elif(pos<abs(neg)):\n",
        "  print('NEGATIVE')\n",
        "else:\n",
        "  print('EQUAL')"
      ],
      "execution_count": 36,
      "outputs": [
        {
          "output_type": "stream",
          "text": [
            "enter number of elements : 5\n",
            "enter element 1\n",
            "enter element -1\n",
            "enter element 2\n",
            "enter element -3\n",
            "enter element -4\n",
            "NEGATIVE\n"
          ],
          "name": "stdout"
        }
      ]
    },
    {
      "cell_type": "code",
      "metadata": {
        "colab": {
          "base_uri": "https://localhost:8080/"
        },
        "id": "2y91WEF_RHmh",
        "outputId": "028a5501-710c-4f8b-e0e2-2561b6798972"
      },
      "source": [
        "a=input('enter string ')\n",
        "b=''\n",
        "c=''\n",
        "e=''\n",
        "for i in range(0,len(a)):\n",
        "  if(a[i]=='a' or a[i]=='e' or a[i]=='i' or a[i]=='o' or a[i]=='u' or a[i]=='A' or a[i]=='E' or a[i]=='I' or a[i]=='O' or a[i]=='U'):\n",
        "    b+=a[i]\n",
        "  else:\n",
        "    c+=a[i]\n",
        "\n",
        "e=b+c\n",
        "print(str(e))"
      ],
      "execution_count": 47,
      "outputs": [
        {
          "output_type": "stream",
          "text": [
            "enter string heathcliff\n",
            "eaihthclff\n"
          ],
          "name": "stdout"
        }
      ]
    },
    {
      "cell_type": "code",
      "metadata": {
        "id": "NsNoDcvVWnkZ"
      },
      "source": [
        ""
      ],
      "execution_count": null,
      "outputs": []
    }
  ]
}